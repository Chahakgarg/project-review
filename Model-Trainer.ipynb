{
  "nbformat": 4,
  "nbformat_minor": 0,
  "metadata": {
    "accelerator": "GPU",
    "colab": {
      "name": "Untitled.ipynb",
      "provenance": []
    },
    "kernelspec": {
      "display_name": "Python 3",
      "language": "python",
      "name": "python3"
    },
    "language_info": {
      "codemirror_mode": {
        "name": "ipython",
        "version": 3
      },
      "file_extension": ".py",
      "mimetype": "text/x-python",
      "name": "python",
      "nbconvert_exporter": "python",
      "pygments_lexer": "ipython3",
      "version": "3.8.10"
    }
  },
  "cells": [
    {
      "cell_type": "code",
      "metadata": {
        "id": "VnckOnVUT6zu"
      },
      "source": [
        ""
      ],
      "execution_count": null,
      "outputs": []
    },
    {
      "cell_type": "markdown",
      "metadata": {
        "id": "Swl3dk4bUDrz"
      },
      "source": [
        "# Project Review 1 Notebook\n",
        "This notebook assumes the data is either obtained locally or avaiable online in your drive. The `drive` variable decides the location of the data. If not avaiable locally  this will mount your google drive in the notebook's local drive. Keep in mind this requires this notebook to be running in Google Colab.\n",
        "\n",
        "If running locally(`drive = False`) then data must be present in `data` directory relative to the notebook. You can change the location accordingly in the notebook.\n"
      ]
    },
    {
      "cell_type": "code",
      "metadata": {
        "id": "MZ5MHC_eUC5V"
      },
      "source": [
        ""
      ],
      "execution_count": null,
      "outputs": []
    },
    {
      "cell_type": "code",
      "metadata": {
        "id": "DQK037b0TloC"
      },
      "source": [
        "drive = False\n",
        "data_location = None"
      ],
      "execution_count": null,
      "outputs": []
    },
    {
      "cell_type": "code",
      "metadata": {
        "id": "4wlAOfeQT5FU"
      },
      "source": [
        ""
      ],
      "execution_count": null,
      "outputs": []
    },
    {
      "cell_type": "code",
      "metadata": {
        "colab": {
          "base_uri": "https://localhost:8080/"
        },
        "id": "7Yep61Pgf8cg",
        "outputId": "96fe9cf2-851e-4201-df06-d843e7e1e3ca"
      },
      "source": [
        "if drive:\n",
        "  from google.colab import drive\n",
        "  drive.mount('/content/drive')\n",
        "  data_location = '/content/drive/MyDrive/data'\n",
        "else:\n",
        "  data_location = 'data'"
      ],
      "execution_count": null,
      "outputs": [
        {
          "output_type": "stream",
          "name": "stdout",
          "text": [
            "Mounted at /content/drive\n"
          ]
        }
      ]
    },
    {
      "cell_type": "code",
      "metadata": {
        "id": "b8uTTXd4axAC"
      },
      "source": [
        "from tensorflow import keras"
      ],
      "execution_count": null,
      "outputs": []
    },
    {
      "cell_type": "code",
      "metadata": {
        "id": "BQLimtbtaxAF"
      },
      "source": [
        "train_data_generator = keras.preprocessing.image.ImageDataGenerator(rotation_range=0.3 , zoom_range=0.2 , rescale=1/255 , horizontal_flip=True , vertical_flip=True , validation_split=0.2)"
      ],
      "execution_count": null,
      "outputs": []
    },
    {
      "cell_type": "code",
      "metadata": {
        "id": "m52mqbo9axAG"
      },
      "source": [
        "test_data_generator = keras.preprocessing.image.ImageDataGenerator(validation_split=0.2)"
      ],
      "execution_count": null,
      "outputs": []
    },
    {
      "cell_type": "code",
      "metadata": {
        "id": "W6lqkCXGaxAH"
      },
      "source": [
        "model = keras.Sequential()"
      ],
      "execution_count": null,
      "outputs": []
    },
    {
      "cell_type": "code",
      "metadata": {
        "id": "FrGulNdOaxAI"
      },
      "source": [
        "model.add(keras.layers.Conv2D(filters=64, kernel_size=(3,3) , input_shape=(800 , 600 , 3) , activation='relu'))"
      ],
      "execution_count": null,
      "outputs": []
    },
    {
      "cell_type": "code",
      "metadata": {
        "id": "qoTxAFW4axAJ"
      },
      "source": [
        "model.add(keras.layers.MaxPool2D(pool_size=(2,2)))"
      ],
      "execution_count": null,
      "outputs": []
    },
    {
      "cell_type": "code",
      "metadata": {
        "id": "sekNDI1MaxAK"
      },
      "source": [
        "model.add(keras.layers.Conv2D(filters=32 , kernel_size=(3,3) , activation='relu'))"
      ],
      "execution_count": null,
      "outputs": []
    },
    {
      "cell_type": "code",
      "metadata": {
        "id": "YsTSev9DaxAL"
      },
      "source": [
        "model.add(keras.layers.Flatten())"
      ],
      "execution_count": null,
      "outputs": []
    },
    {
      "cell_type": "code",
      "metadata": {
        "id": "8QOFM2ctaxAL"
      },
      "source": [
        "model.add(keras.layers.Dense(25 , activation='relu'))"
      ],
      "execution_count": null,
      "outputs": []
    },
    {
      "cell_type": "code",
      "metadata": {
        "id": "tiikXkviaxAM"
      },
      "source": [
        "model.add(keras.layers.Dense(2, activation='sigmoid'))"
      ],
      "execution_count": null,
      "outputs": []
    },
    {
      "cell_type": "code",
      "metadata": {
        "id": "bkUnulZaaxAM"
      },
      "source": [
        "model.compile(optimizer='adam' , loss='sparse_categorical_crossentropy' , metrics=['acc'])"
      ],
      "execution_count": null,
      "outputs": []
    },
    {
      "cell_type": "code",
      "metadata": {
        "colab": {
          "base_uri": "https://localhost:8080/"
        },
        "id": "HBNvXgZJq43A",
        "outputId": "a2753c97-901e-4cf0-95d4-9e0a8225cfe4"
      },
      "source": [
        "model.summary()"
      ],
      "execution_count": null,
      "outputs": [
        {
          "output_type": "stream",
          "name": "stdout",
          "text": [
            "Model: \"sequential\"\n",
            "_________________________________________________________________\n",
            " Layer (type)                Output Shape              Param #   \n",
            "=================================================================\n",
            " conv2d (Conv2D)             (None, 798, 598, 64)      1792      \n",
            "                                                                 \n",
            " max_pooling2d (MaxPooling2D  (None, 399, 299, 64)     0         \n",
            " )                                                               \n",
            "                                                                 \n",
            " conv2d_1 (Conv2D)           (None, 397, 297, 32)      18464     \n",
            "                                                                 \n",
            " flatten (Flatten)           (None, 3773088)           0         \n",
            "                                                                 \n",
            " dense (Dense)               (None, 25)                94327225  \n",
            "                                                                 \n",
            " dense_1 (Dense)             (None, 2)                 52        \n",
            "                                                                 \n",
            "=================================================================\n",
            "Total params: 94,347,533\n",
            "Trainable params: 94,347,533\n",
            "Non-trainable params: 0\n",
            "_________________________________________________________________\n"
          ]
        }
      ]
    },
    {
      "cell_type": "code",
      "metadata": {
        "colab": {
          "base_uri": "https://localhost:8080/"
        },
        "id": "G-cL-NlPaxAN",
        "outputId": "81ab79f4-cad1-47f0-ee89-5339fd2a6ff0"
      },
      "source": [
        "train_generator = train_data_generator.flow_from_directory(\n",
        "    'drive/MyDrive/data',\n",
        "    subset='training',\n",
        "    target_size=(800 , 600 ),\n",
        "    batch_size=12,\n",
        "    class_mode='binary')"
      ],
      "execution_count": null,
      "outputs": [
        {
          "output_type": "stream",
          "name": "stdout",
          "text": [
            "Found 128 images belonging to 2 classes.\n"
          ]
        }
      ]
    },
    {
      "cell_type": "code",
      "metadata": {
        "colab": {
          "base_uri": "https://localhost:8080/"
        },
        "id": "QslrVGQ0axAO",
        "outputId": "c0f743f7-e4d9-4591-9cc4-6492f9874c45"
      },
      "source": [
        "test_generator = test_data_generator.flow_from_directory(\n",
        "    'drive/MyDrive/data',\n",
        "    subset='validation',\n",
        "    target_size=(800, 600 ),\n",
        "    batch_size=12,\n",
        "    class_mode = 'binary'\n",
        ")\n",
        "    "
      ],
      "execution_count": null,
      "outputs": [
        {
          "output_type": "stream",
          "name": "stdout",
          "text": [
            "Found 30 images belonging to 2 classes.\n"
          ]
        }
      ]
    },
    {
      "cell_type": "code",
      "metadata": {
        "colab": {
          "base_uri": "https://localhost:8080/"
        },
        "id": "S3iVp3m-axAP",
        "outputId": "a84ff060-5f47-4d45-902e-dc05a8c9e630"
      },
      "source": [
        "history = model.fit(train_generator , validation_data = test_generator , epochs = 10)"
      ],
      "execution_count": null,
      "outputs": [
        {
          "output_type": "stream",
          "name": "stdout",
          "text": [
            "Epoch 1/10\n",
            "11/11 [==============================] - 121s 10s/step - loss: 4.7322 - acc: 0.7109 - val_loss: 26.9924 - val_acc: 0.9333\n",
            "Epoch 2/10\n",
            "11/11 [==============================] - 20s 2s/step - loss: 0.4917 - acc: 0.7734 - val_loss: 7.0809 - val_acc: 0.9333\n",
            "Epoch 3/10\n",
            "11/11 [==============================] - 20s 2s/step - loss: 0.3358 - acc: 0.8516 - val_loss: 40.1697 - val_acc: 0.9333\n",
            "Epoch 4/10\n",
            "11/11 [==============================] - 20s 2s/step - loss: 0.3604 - acc: 0.8438 - val_loss: 64.4004 - val_acc: 0.9333\n",
            "Epoch 5/10\n",
            "11/11 [==============================] - 20s 2s/step - loss: 0.3222 - acc: 0.8438 - val_loss: 67.1961 - val_acc: 0.9333\n",
            "Epoch 6/10\n",
            "11/11 [==============================] - 20s 2s/step - loss: 0.3461 - acc: 0.8281 - val_loss: 102.2618 - val_acc: 0.9333\n",
            "Epoch 7/10\n",
            "11/11 [==============================] - 20s 2s/step - loss: 0.2662 - acc: 0.8828 - val_loss: 40.3140 - val_acc: 0.9333\n",
            "Epoch 8/10\n",
            "11/11 [==============================] - 20s 2s/step - loss: 0.2851 - acc: 0.8828 - val_loss: 71.7105 - val_acc: 0.9333\n",
            "Epoch 9/10\n",
            "11/11 [==============================] - 20s 2s/step - loss: 0.2317 - acc: 0.9219 - val_loss: 105.5116 - val_acc: 0.9333\n",
            "Epoch 10/10\n",
            "11/11 [==============================] - 20s 2s/step - loss: 0.2520 - acc: 0.8828 - val_loss: 48.9766 - val_acc: 0.9333\n"
          ]
        }
      ]
    },
    {
      "cell_type": "code",
      "metadata": {
        "id": "8S8-PYV_85YM"
      },
      "source": [
        "import matplotlib.pyplot as plt"
      ],
      "execution_count": null,
      "outputs": []
    },
    {
      "cell_type": "code",
      "metadata": {
        "colab": {
          "base_uri": "https://localhost:8080/",
          "height": 281
        },
        "id": "0Ucn77jz87t9",
        "outputId": "6f51fa9c-7ccb-4981-b523-4cdda4b04270"
      },
      "source": [
        "plt.plot(list(range(10)) , history.history['val_loss'])\n",
        "plt.plot(list(range(10)) , history.history['loss'])\n",
        "plt.title(\"Training vs Validation Loss\")\n",
        "plt.legend()\n",
        "plt.savefig('loss_graph.png' , format='png')"
      ],
      "execution_count": null,
      "outputs": [
        {
          "output_type": "display_data",
          "data": {
            "image/png": "[encoded data removed]",
            "text/plain": [
              "<Figure size 432x288 with 1 Axes>"
            ]
          },
          "metadata": {
            "needs_background": "light"
          }
        }
      ]
    },
    {
      "cell_type": "code",
      "metadata": {
        "id": "-HFuo-MbUtP9"
      },
      "source": [
        "\n",
        "plt.plot(list(range(10)) , history.history['val_acc'])\n",
        "plt.plot(list(range(10)) , history.history['acc'])\n",
        "plt.title('Training vs Validation accuracy')\n",
        "plt.legend()\n",
        "plt.savefig('acc_graph.png' , format='png')"
      ],
      "execution_count": null,
      "outputs": []
    },
    {
      "cell_type": "code",
      "metadata": {
        "id": "T6_WvSH6AMEA"
      },
      "source": [
        "model.save('model')"
      ],
      "execution_count": null,
      "outputs": []
    }
  ]
}