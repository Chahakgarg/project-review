{
  "nbformat": 4,
  "nbformat_minor": 0,
  "metadata": {
    "accelerator": "GPU",
    "colab": {
      "name": "Untitled.ipynb",
      "provenance": []
    },
    "kernelspec": {
      "display_name": "Python 3",
      "language": "python",
      "name": "python3"
    },
    "language_info": {
      "codemirror_mode": {
        "name": "ipython",
        "version": 3
      },
      "file_extension": ".py",
      "mimetype": "text/x-python",
      "name": "python",
      "nbconvert_exporter": "python",
      "pygments_lexer": "ipython3",
      "version": "3.8.10"
    }
  },
  "cells": [
    {
      "cell_type": "code",
      "metadata": {
        "colab": {
          "base_uri": "https://localhost:8080/"
        },
        "id": "7Yep61Pgf8cg",
        "outputId": "1d575880-958c-4b15-df22-a10c01859c8a"
      },
      "source": [
        "from google.colab import drive\n",
        "drive.mount('/content/drive')"
      ],
      "execution_count": null,
      "outputs": [
        {
          "name": "stdout",
          "output_type": "stream",
          "text": [
            "Mounted at /content/drive\n"
          ]
        }
      ]
    },
    {
      "cell_type": "code",
      "metadata": {
        "id": "b8uTTXd4axAC"
      },
      "source": [
        "from tensorflow import keras"
      ],
      "execution_count": null,
      "outputs": []
    },
    {
      "cell_type": "code",
      "metadata": {
        "id": "BQLimtbtaxAF"
      },
      "source": [
        "train_data_generator = keras.preprocessing.image.ImageDataGenerator(rotation_range=0.3 , zoom_range=0.2 , rescale=1/255 , horizontal_flip=True , vertical_flip=True , validation_split=0.2)"
      ],
      "execution_count": null,
      "outputs": []
    },
    {
      "cell_type": "code",
      "metadata": {
        "id": "m52mqbo9axAG"
      },
      "source": [
        "test_data_generator = keras.preprocessing.image.ImageDataGenerator(validation_split=0.2)"
      ],
      "execution_count": null,
      "outputs": []
    },
    {
      "cell_type": "code",
      "metadata": {
        "id": "W6lqkCXGaxAH"
      },
      "source": [
        "model = keras.Sequential()"
      ],
      "execution_count": null,
      "outputs": []
    },
    {
      "cell_type": "code",
      "metadata": {
        "id": "FrGulNdOaxAI"
      },
      "source": [
        "model.add(keras.layers.Conv2D(filters=64, kernel_size=(3,3) , input_shape=(800 , 600 , 3) , activation='relu'))"
      ],
      "execution_count": null,
      "outputs": []
    },
    {
      "cell_type": "code",
      "metadata": {
        "id": "qoTxAFW4axAJ"
      },
      "source": [
        "model.add(keras.layers.MaxPool2D(pool_size=(2,2)))"
      ],
      "execution_count": null,
      "outputs": []
    },
    {
      "cell_type": "code",
      "metadata": {
        "id": "sekNDI1MaxAK"
      },
      "source": [
        "model.add(keras.layers.Conv2D(filters=32 , kernel_size=(3,3) , activation='relu'))"
      ],
      "execution_count": null,
      "outputs": []
    },
    {
      "cell_type": "code",
      "metadata": {
        "id": "YsTSev9DaxAL"
      },
      "source": [
        "model.add(keras.layers.Flatten())"
      ],
      "execution_count": null,
      "outputs": []
    },
    {
      "cell_type": "code",
      "metadata": {
        "id": "8QOFM2ctaxAL"
      },
      "source": [
        "model.add(keras.layers.Dense(25 , activation='relu'))"
      ],
      "execution_count": null,
      "outputs": []
    },
    {
      "cell_type": "code",
      "metadata": {
        "id": "tiikXkviaxAM"
      },
      "source": [
        "model.add(keras.layers.Dense(2, activation='sigmoid'))"
      ],
      "execution_count": null,
      "outputs": []
    },
    {
      "cell_type": "code",
      "metadata": {
        "id": "bkUnulZaaxAM"
      },
      "source": [
        "model.compile(optimizer='adam' , loss='sparse_categorical_crossentropy' , metrics=['acc'])"
      ],
      "execution_count": null,
      "outputs": []
    },
    {
      "cell_type": "code",
      "metadata": {
        "colab": {
          "base_uri": "https://localhost:8080/"
        },
        "id": "G-cL-NlPaxAN",
        "outputId": "2fcdadce-361b-4986-e6ca-308213119ad9"
      },
      "source": [
        "train_generator = train_data_generator.flow_from_directory(\n",
        "    'drive/MyDrive/data',\n",
        "    subset='training',\n",
        "    target_size=(800 , 600 ),\n",
        "    batch_size=12,\n",
        "    class_mode='binary')"
      ],
      "execution_count": null,
      "outputs": [
        {
          "output_type": "stream",
          "name": "stdout",
          "text": [
            "Found 128 images belonging to 2 classes.\n"
          ]
        }
      ]
    },
    {
      "cell_type": "code",
      "metadata": {
        "colab": {
          "base_uri": "https://localhost:8080/"
        },
        "id": "QslrVGQ0axAO",
        "outputId": "2626f115-06ca-4248-a21e-5b54edea920b"
      },
      "source": [
        "test_generator = test_data_generator.flow_from_directory(\n",
        "    'drive/MyDrive/data',\n",
        "    subset='validation',\n",
        "    target_size=(800, 600 ),\n",
        "    batch_size=12,\n",
        "    class_mode = 'binary'\n",
        ")\n",
        "    "
      ],
      "execution_count": null,
      "outputs": [
        {
          "output_type": "stream",
          "name": "stdout",
          "text": [
            "Found 30 images belonging to 2 classes.\n"
          ]
        }
      ]
    },
    {
      "cell_type": "code",
      "metadata": {
        "colab": {
          "base_uri": "https://localhost:8080/"
        },
        "id": "S3iVp3m-axAP",
        "outputId": "54ce7849-5ac3-49d1-d534-94b3eb732b36"
      },
      "source": [
        "model.fit(train_generator , validation_data = test_generator , epochs = 10)"
      ],
      "execution_count": null,
      "outputs": [
        {
          "output_type": "stream",
          "name": "stdout",
          "text": [
            "Epoch 1/10\n",
            "11/11 [==============================] - 82s 2s/step - loss: 8.1930 - acc: 0.6641 - val_loss: 52.3021 - val_acc: 0.9333\n",
            "Epoch 2/10\n",
            "11/11 [==============================] - 19s 2s/step - loss: 0.8413 - acc: 0.7656 - val_loss: 41.2121 - val_acc: 0.9333\n",
            "Epoch 3/10\n",
            "11/11 [==============================] - 19s 2s/step - loss: 0.5084 - acc: 0.8516 - val_loss: 149.6517 - val_acc: 0.9333\n",
            "Epoch 4/10\n",
            "11/11 [==============================] - 19s 2s/step - loss: 0.6390 - acc: 0.8125 - val_loss: 335.2040 - val_acc: 0.9333\n",
            "Epoch 5/10\n",
            "11/11 [==============================] - 19s 2s/step - loss: 0.4093 - acc: 0.8594 - val_loss: 0.2772 - val_acc: 1.0000\n",
            "Epoch 6/10\n",
            "11/11 [==============================] - 19s 2s/step - loss: 0.2792 - acc: 0.8672 - val_loss: 28.2472 - val_acc: 0.9333\n",
            "Epoch 7/10\n",
            "11/11 [==============================] - 19s 2s/step - loss: 0.2057 - acc: 0.9219 - val_loss: 79.6625 - val_acc: 0.9333\n",
            "Epoch 8/10\n",
            "11/11 [==============================] - 19s 2s/step - loss: 0.1280 - acc: 0.9844 - val_loss: 154.7676 - val_acc: 0.9333\n",
            "Epoch 9/10\n",
            "11/11 [==============================] - 19s 2s/step - loss: 0.1033 - acc: 0.9688 - val_loss: 224.8701 - val_acc: 0.9333\n",
            "Epoch 10/10\n",
            "11/11 [==============================] - 19s 2s/step - loss: 0.0519 - acc: 0.9766 - val_loss: 360.1419 - val_acc: 0.9333\n"
          ]
        },
        {
          "output_type": "execute_result",
          "data": {
            "text/plain": [
              "<keras.callbacks.History at 0x7f6afe5c6cd0>"
            ]
          },
          "metadata": {},
          "execution_count": 83
        }
      ]
    }
  ]
}